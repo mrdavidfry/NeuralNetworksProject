{
 "cells": [
  {
   "cell_type": "code",
   "execution_count": 111,
   "metadata": {},
   "outputs": [],
   "source": [
    "import pandas as pd\n",
    "import numpy as np"
   ]
  },
  {
   "cell_type": "code",
   "execution_count": 112,
   "metadata": {},
   "outputs": [],
   "source": [
    "df = pd.read_csv('../cw2/part3_training_data.csv')"
   ]
  },
  {
   "cell_type": "code",
   "execution_count": 116,
   "metadata": {},
   "outputs": [],
   "source": [
    "# PREPROCESSOR\n",
    "df.drv_sex1 = df.drv_sex1.map(lambda gender: 1.0 if gender == 'M' else 0.0 if gender == 'M' else 0.5 )\n",
    "df.drv_sex2 = df.drv_sex2.map(lambda gender: 1.0 if gender == 'M' else 0.0 if gender == 'M' else 0.5 )\n",
    "drop_cols = ['vh_make', 'id_policy', 'commune_code', 'canton_code', 'city_district_code', 'regional_department_code', 'pol_pay_freq', 'pol_payd', 'pol_usage', 'pol_insee_code']\n",
    "cat_cols = ['vh_model', 'vh_type', 'pol_coverage', 'vh_fuel', 'drv_drv2']\n",
    "x2 = df.drv_sex2.map(lambda gender: 1.0 if gender == 'M' else 0.0 if gender == 'M' else 0.5 )\n",
    "\n",
    "dropped = df.drop(drop_cols, axis='columns')\n",
    "dummies = pd.get_dummies(df[cat_cols]) \n",
    "with_dummies = dropped.drop(cat_cols, axis = 'columns').join(pd.get_dummies(df[cat_cols]))"
   ]
  }
 ],
 "metadata": {
  "kernelspec": {
   "display_name": "Python 3",
   "language": "python",
   "name": "python3"
  },
  "language_info": {
   "codemirror_mode": {
    "name": "ipython",
    "version": 3
   },
   "file_extension": ".py",
   "mimetype": "text/x-python",
   "name": "python",
   "nbconvert_exporter": "python",
   "pygments_lexer": "ipython3",
   "version": "3.6.9"
  }
 },
 "nbformat": 4,
 "nbformat_minor": 4
}
